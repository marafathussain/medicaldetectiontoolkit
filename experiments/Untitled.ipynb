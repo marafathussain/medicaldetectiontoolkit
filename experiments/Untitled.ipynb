{
 "cells": [
  {
   "cell_type": "code",
   "execution_count": 3,
   "metadata": {},
   "outputs": [],
   "source": [
    "import os\n",
    "import SimpleITK as sitk\n",
    "import numpy as np\n",
    "from multiprocessing import Pool\n",
    "import pandas as pd\n",
    "import numpy.testing as npt\n",
    "from skimage.transform import resize\n",
    "import subprocess\n",
    "import pickle"
   ]
  },
  {
   "cell_type": "code",
   "execution_count": 7,
   "metadata": {},
   "outputs": [
    {
     "name": "stdout",
     "output_type": "stream",
     "text": [
      "['/home/marafath/scratch/kits/training/case_00138', '/home/marafath/scratch/kits/training/case_00116', '/home/marafath/scratch/kits/training/case_00185', '/home/marafath/scratch/kits/training/case_00093', '/home/marafath/scratch/kits/training/case_00115', '/home/marafath/scratch/kits/training/case_00027', '/home/marafath/scratch/kits/training/case_00135', '/home/marafath/scratch/kits/training/case_00071', '/home/marafath/scratch/kits/training/case_00190', '/home/marafath/scratch/kits/training/case_00187', '/home/marafath/scratch/kits/training/case_00031', '/home/marafath/scratch/kits/training/case_00086', '/home/marafath/scratch/kits/training/case_00036', '/home/marafath/scratch/kits/training/case_00141', '/home/marafath/scratch/kits/training/case_00068', '/home/marafath/scratch/kits/training/case_00045', '/home/marafath/scratch/kits/training/case_00023', '/home/marafath/scratch/kits/training/case_00010', '/home/marafath/scratch/kits/training/case_00069', '/home/marafath/scratch/kits/training/case_00092', '/home/marafath/scratch/kits/training/case_00034', '/home/marafath/scratch/kits/training/case_00149', '/home/marafath/scratch/kits/training/case_00017', '/home/marafath/scratch/kits/training/case_00054', '/home/marafath/scratch/kits/training/case_00179', '/home/marafath/scratch/kits/training/case_00130', '/home/marafath/scratch/kits/training/case_00137', '/home/marafath/scratch/kits/training/case_00111', '/home/marafath/scratch/kits/training/case_00048', '/home/marafath/scratch/kits/training/case_00192', '/home/marafath/scratch/kits/training/case_00070', '/home/marafath/scratch/kits/training/case_00087', '/home/marafath/scratch/kits/training/case_00172', '/home/marafath/scratch/kits/training/case_00090', '/home/marafath/scratch/kits/training/case_00104', '/home/marafath/scratch/kits/training/case_00074', '/home/marafath/scratch/kits/training/case_00108', '/home/marafath/scratch/kits/training/case_00089', '/home/marafath/scratch/kits/training/case_00129', '/home/marafath/scratch/kits/training/case_00013', '/home/marafath/scratch/kits/training/case_00014', '/home/marafath/scratch/kits/training/case_00164', '/home/marafath/scratch/kits/training/case_00088', '/home/marafath/scratch/kits/training/case_00059', '/home/marafath/scratch/kits/training/case_00208', '/home/marafath/scratch/kits/training/case_00016', '/home/marafath/scratch/kits/training/case_00058', '/home/marafath/scratch/kits/training/case_00012', '/home/marafath/scratch/kits/training/case_00044', '/home/marafath/scratch/kits/training/case_00112', '/home/marafath/scratch/kits/training/case_00065', '/home/marafath/scratch/kits/training/case_00174', '/home/marafath/scratch/kits/training/case_00043', '/home/marafath/scratch/kits/training/case_00146', '/home/marafath/scratch/kits/training/case_00049', '/home/marafath/scratch/kits/training/case_00063', '/home/marafath/scratch/kits/training/case_00157', '/home/marafath/scratch/kits/training/case_00026', '/home/marafath/scratch/kits/training/case_00037', '/home/marafath/scratch/kits/training/case_00119', '/home/marafath/scratch/kits/training/case_00102', '/home/marafath/scratch/kits/training/case_00033', '/home/marafath/scratch/kits/training/case_00025', '/home/marafath/scratch/kits/training/case_00166', '/home/marafath/scratch/kits/training/case_00082', '/home/marafath/scratch/kits/training/case_00124', '/home/marafath/scratch/kits/training/case_00055', '/home/marafath/scratch/kits/training/case_00018', '/home/marafath/scratch/kits/training/case_00006', '/home/marafath/scratch/kits/training/case_00024', '/home/marafath/scratch/kits/training/case_00161', '/home/marafath/scratch/kits/training/case_00061', '/home/marafath/scratch/kits/training/case_00005', '/home/marafath/scratch/kits/training/case_00062', '/home/marafath/scratch/kits/training/case_00204', '/home/marafath/scratch/kits/training/case_00143', '/home/marafath/scratch/kits/training/case_00160', '/home/marafath/scratch/kits/training/case_00128', '/home/marafath/scratch/kits/training/case_00120', '/home/marafath/scratch/kits/training/case_00163', '/home/marafath/scratch/kits/training/case_00182', '/home/marafath/scratch/kits/training/case_00123', '/home/marafath/scratch/kits/training/case_00064', '/home/marafath/scratch/kits/training/case_00171', '/home/marafath/scratch/kits/training/case_00139', '/home/marafath/scratch/kits/training/case_00009', '/home/marafath/scratch/kits/training/case_00057', '/home/marafath/scratch/kits/training/case_00148', '/home/marafath/scratch/kits/training/case_00118', '/home/marafath/scratch/kits/training/case_00203', '/home/marafath/scratch/kits/training/case_00176', '/home/marafath/scratch/kits/training/case_00011', '/home/marafath/scratch/kits/training/case_00053', '/home/marafath/scratch/kits/training/case_00206', '/home/marafath/scratch/kits/training/case_00180', '/home/marafath/scratch/kits/training/case_00110', '/home/marafath/scratch/kits/training/case_00184', '/home/marafath/scratch/kits/training/case_00085', '/home/marafath/scratch/kits/training/case_00077', '/home/marafath/scratch/kits/training/case_00125', '/home/marafath/scratch/kits/training/case_00133', '/home/marafath/scratch/kits/training/case_00095', '/home/marafath/scratch/kits/training/case_00189', '/home/marafath/scratch/kits/training/case_00073', '/home/marafath/scratch/kits/training/case_00004', '/home/marafath/scratch/kits/training/case_00083', '/home/marafath/scratch/kits/training/case_00107', '/home/marafath/scratch/kits/training/case_00177', '/home/marafath/scratch/kits/training/case_00147', '/home/marafath/scratch/kits/training/case_00001', '/home/marafath/scratch/kits/training/case_00142', '/home/marafath/scratch/kits/training/case_00188', '/home/marafath/scratch/kits/training/case_00114', '/home/marafath/scratch/kits/training/case_00101', '/home/marafath/scratch/kits/training/case_00113', '/home/marafath/scratch/kits/training/case_00205', '/home/marafath/scratch/kits/training/case_00144', '/home/marafath/scratch/kits/training/case_00020', '/home/marafath/scratch/kits/training/case_00075', '/home/marafath/scratch/kits/training/case_00028', '/home/marafath/scratch/kits/training/case_00175', '/home/marafath/scratch/kits/training/case_00007', '/home/marafath/scratch/kits/training/case_00150', '/home/marafath/scratch/kits/training/case_00121', '/home/marafath/scratch/kits/training/case_00000', '/home/marafath/scratch/kits/training/case_00198', '/home/marafath/scratch/kits/training/case_00066', '/home/marafath/scratch/kits/training/case_00202', '/home/marafath/scratch/kits/training/case_00186', '/home/marafath/scratch/kits/training/case_00105', '/home/marafath/scratch/kits/training/case_00145', '/home/marafath/scratch/kits/training/case_00155', '/home/marafath/scratch/kits/training/case_00106', '/home/marafath/scratch/kits/training/case_00109', '/home/marafath/scratch/kits/training/case_00046', '/home/marafath/scratch/kits/training/case_00191', '/home/marafath/scratch/kits/training/case_00041', '/home/marafath/scratch/kits/training/case_00056', '/home/marafath/scratch/kits/training/case_00131', '/home/marafath/scratch/kits/training/case_00078', '/home/marafath/scratch/kits/training/case_00162', '/home/marafath/scratch/kits/training/case_00098', '/home/marafath/scratch/kits/training/case_00060', '/home/marafath/scratch/kits/training/case_00030', '/home/marafath/scratch/kits/training/case_00081', '/home/marafath/scratch/kits/training/case_00140', '/home/marafath/scratch/kits/training/case_00015', '/home/marafath/scratch/kits/training/case_00094', '/home/marafath/scratch/kits/training/case_00201', '/home/marafath/scratch/kits/training/case_00050', '/home/marafath/scratch/kits/training/case_00195', '/home/marafath/scratch/kits/training/case_00021', '/home/marafath/scratch/kits/training/case_00194', '/home/marafath/scratch/kits/training/case_00193', '/home/marafath/scratch/kits/training/case_00039', '/home/marafath/scratch/kits/training/case_00080', '/home/marafath/scratch/kits/training/case_00196', '/home/marafath/scratch/kits/training/case_00051', '/home/marafath/scratch/kits/training/case_00099', '/home/marafath/scratch/kits/training/case_00097', '/home/marafath/scratch/kits/training/case_00181', '/home/marafath/scratch/kits/training/case_00178', '/home/marafath/scratch/kits/training/case_00091', '/home/marafath/scratch/kits/training/case_00029', '/home/marafath/scratch/kits/training/case_00183', '/home/marafath/scratch/kits/training/case_00003', '/home/marafath/scratch/kits/training/case_00002', '/home/marafath/scratch/kits/training/case_00151', '/home/marafath/scratch/kits/training/case_00084', '/home/marafath/scratch/kits/training/case_00156', '/home/marafath/scratch/kits/training/case_00067', '/home/marafath/scratch/kits/training/case_00132', '/home/marafath/scratch/kits/training/case_00079', '/home/marafath/scratch/kits/training/case_00209', '/home/marafath/scratch/kits/training/case_00154', '/home/marafath/scratch/kits/training/case_00170', '/home/marafath/scratch/kits/training/case_00207', '/home/marafath/scratch/kits/training/case_00134', '/home/marafath/scratch/kits/training/case_00126', '/home/marafath/scratch/kits/training/case_00158', '/home/marafath/scratch/kits/training/case_00035', '/home/marafath/scratch/kits/training/case_00096', '/home/marafath/scratch/kits/training/case_00022', '/home/marafath/scratch/kits/training/case_00122', '/home/marafath/scratch/kits/training/case_00047', '/home/marafath/scratch/kits/training/case_00042', '/home/marafath/scratch/kits/training/case_00072', '/home/marafath/scratch/kits/training/case_00100', '/home/marafath/scratch/kits/training/case_00127', '/home/marafath/scratch/kits/training/case_00038', '/home/marafath/scratch/kits/training/case_00167', '/home/marafath/scratch/kits/training/case_00103', '/home/marafath/scratch/kits/training/case_00165', '/home/marafath/scratch/kits/training/case_00117', '/home/marafath/scratch/kits/training/case_00019', '/home/marafath/scratch/kits/training/case_00169', '/home/marafath/scratch/kits/training/case_00173', '/home/marafath/scratch/kits/training/case_00052', '/home/marafath/scratch/kits/training/case_00197', '/home/marafath/scratch/kits/training/case_00076', '/home/marafath/scratch/kits/training/case_00032', '/home/marafath/scratch/kits/training/case_00168', '/home/marafath/scratch/kits/training/case_00159', '/home/marafath/scratch/kits/training/case_00200', '/home/marafath/scratch/kits/training/case_00040', '/home/marafath/scratch/kits/training/case_00136', '/home/marafath/scratch/kits/training/case_00199', '/home/marafath/scratch/kits/training/case_00152', '/home/marafath/scratch/kits/training/case_00008', '/home/marafath/scratch/kits/training/case_00153']\n"
     ]
    }
   ],
   "source": [
    "import os\n",
    "raw_data_dir = '/home/marafath/scratch/kits/training'\n",
    "paths = [os.path.join(raw_data_dir, ii) for ii in os.listdir(raw_data_dir)]\n",
    "\n",
    "print(paths)"
   ]
  },
  {
   "cell_type": "code",
   "execution_count": 9,
   "metadata": {},
   "outputs": [
    {
     "name": "stdout",
     "output_type": "stream",
     "text": [
      "['/home/marafath/project/marafath/medicaldetectiontoolkit/experiments/toy_exp/train/0.npy', 1, '0']\n"
     ]
    }
   ],
   "source": [
    "import pandas as pd\n",
    "\n",
    "object = pd.read_pickle(r'/home/marafath/project/marafath/medicaldetectiontoolkit/experiments/toy_exp/train/meta_info_0.pickle')\n",
    "print(object)"
   ]
  },
  {
   "cell_type": "code",
   "execution_count": 16,
   "metadata": {},
   "outputs": [
    {
     "data": {
      "text/plain": [
       "<matplotlib.image.AxesImage at 0x2b0296feb750>"
      ]
     },
     "execution_count": 16,
     "metadata": {},
     "output_type": "execute_result"
    },
    {
     "data": {
      "image/png": "[encoded data removed]",
      "text/plain": [
       "<Figure size 1296x432 with 1 Axes>"
      ]
     },
     "metadata": {
      "needs_background": "light"
     },
     "output_type": "display_data"
    }
   ],
   "source": [
    "import matplotlib.pyplot as plt\n",
    "im = np.load('/home/marafath/project/marafath/medicaldetectiontoolkit/experiments/toy_exp/test/7.npy')\n",
    "plt.figure('check', (18, 6))\n",
    "plt.title('toy')\n",
    "plt.imshow(im[1,:,:])"
   ]
  },
  {
   "cell_type": "code",
   "execution_count": 2,
   "metadata": {},
   "outputs": [
    {
     "name": "stdout",
     "output_type": "stream",
     "text": [
      "            pid class_target                                      spacing  \\\n",
      "0    case_00079          [1]  (3.0, 0.781624972820282, 0.781624972820282)   \n",
      "1    case_00087          [1]  (3.0, 0.781624972820282, 0.781624972820282)   \n",
      "2    case_00195          [1]  (3.0, 0.781624972820282, 0.781624972820282)   \n",
      "3    case_00003          [1]  (3.0, 0.781624972820282, 0.781624972820282)   \n",
      "4    case_00051          [1]  (3.0, 0.781624972820282, 0.781624972820282)   \n",
      "5    case_00107          [1]  (3.0, 0.781624972820282, 0.781624972820282)   \n",
      "6    case_00134          [1]  (3.0, 0.781624972820282, 0.781624972820282)   \n",
      "7    case_00015          [1]  (3.0, 0.781624972820282, 0.781624972820282)   \n",
      "8    case_00019          [1]  (3.0, 0.781624972820282, 0.781624972820282)   \n",
      "9    case_00074          [1]  (3.0, 0.781624972820282, 0.781624972820282)   \n",
      "10   case_00097          [1]  (3.0, 0.781624972820282, 0.781624972820282)   \n",
      "11   case_00066          [1]  (3.0, 0.781624972820282, 0.781624972820282)   \n",
      "12   case_00089          [1]  (3.0, 0.781624972820282, 0.781624972820282)   \n",
      "13   case_00052          [1]  (3.0, 0.781624972820282, 0.781624972820282)   \n",
      "14   case_00037          [1]  (3.0, 0.781624972820282, 0.781624972820282)   \n",
      "15   case_00149          [1]  (3.0, 0.781624972820282, 0.781624972820282)   \n",
      "16   case_00138          [1]  (3.0, 0.781624972820282, 0.781624972820282)   \n",
      "17   case_00020          [1]  (3.0, 0.781624972820282, 0.781624972820282)   \n",
      "18   case_00030          [1]  (3.0, 0.781624972820282, 0.781624972820282)   \n",
      "19   case_00130          [1]  (3.0, 0.781624972820282, 0.781624972820282)   \n",
      "20   case_00146          [1]  (3.0, 0.781624972820282, 0.781624972820282)   \n",
      "21   case_00040          [1]  (3.0, 0.781624972820282, 0.781624972820282)   \n",
      "22   case_00126          [1]  (3.0, 0.781624972820282, 0.781624972820282)   \n",
      "23   case_00165          [1]  (3.0, 0.781624972820282, 0.781624972820282)   \n",
      "24   case_00201          [1]  (3.0, 0.781624972820282, 0.781624972820282)   \n",
      "25   case_00094          [1]  (3.0, 0.781624972820282, 0.781624972820282)   \n",
      "26   case_00191          [1]  (3.0, 0.781624972820282, 0.781624972820282)   \n",
      "27   case_00112          [1]  (3.0, 0.781624972820282, 0.781624972820282)   \n",
      "28   case_00202          [1]  (3.0, 0.781624972820282, 0.781624972820282)   \n",
      "29   case_00176          [1]  (3.0, 0.781624972820282, 0.781624972820282)   \n",
      "..          ...          ...                                          ...   \n",
      "180  case_00002          [1]  (3.0, 0.781624972820282, 0.781624972820282)   \n",
      "181  case_00025          [1]  (3.0, 0.781624972820282, 0.781624972820282)   \n",
      "182  case_00022          [1]  (3.0, 0.781624972820282, 0.781624972820282)   \n",
      "183  case_00132          [1]  (3.0, 0.781624972820282, 0.781624972820282)   \n",
      "184  case_00171          [1]  (3.0, 0.781624972820282, 0.781624972820282)   \n",
      "185  case_00174          [1]  (3.0, 0.781624972820282, 0.781624972820282)   \n",
      "186  case_00154          [1]  (3.0, 0.781624972820282, 0.781624972820282)   \n",
      "187  case_00044          [1]  (3.0, 0.781624972820282, 0.781624972820282)   \n",
      "188  case_00103          [1]  (3.0, 0.781624972820282, 0.781624972820282)   \n",
      "189  case_00179          [1]  (3.0, 0.781624972820282, 0.781624972820282)   \n",
      "190  case_00127          [1]  (3.0, 0.781624972820282, 0.781624972820282)   \n",
      "191  case_00042          [1]  (3.0, 0.781624972820282, 0.781624972820282)   \n",
      "192  case_00021          [1]  (3.0, 0.781624972820282, 0.781624972820282)   \n",
      "193  case_00177          [1]  (3.0, 0.781624972820282, 0.781624972820282)   \n",
      "194  case_00024          [1]  (3.0, 0.781624972820282, 0.781624972820282)   \n",
      "195  case_00120          [1]  (3.0, 0.781624972820282, 0.781624972820282)   \n",
      "196  case_00122          [1]  (3.0, 0.781624972820282, 0.781624972820282)   \n",
      "197  case_00055          [1]  (3.0, 0.781624972820282, 0.781624972820282)   \n",
      "198  case_00206          [1]  (3.0, 0.781624972820282, 0.781624972820282)   \n",
      "199  case_00118          [1]  (3.0, 0.781624972820282, 0.781624972820282)   \n",
      "200  case_00192          [1]  (3.0, 0.781624972820282, 0.781624972820282)   \n",
      "201  case_00012          [1]  (3.0, 0.781624972820282, 0.781624972820282)   \n",
      "202  case_00058          [1]  (3.0, 0.781624972820282, 0.781624972820282)   \n",
      "203  case_00053          [1]  (3.0, 0.781624972820282, 0.781624972820282)   \n",
      "204  case_00153          [1]  (3.0, 0.781624972820282, 0.781624972820282)   \n",
      "205  case_00105          [1]  (3.0, 0.781624972820282, 0.781624972820282)   \n",
      "206  case_00172          [1]  (3.0, 0.781624972820282, 0.781624972820282)   \n",
      "207  case_00082          [1]  (3.0, 0.781624972820282, 0.781624972820282)   \n",
      "208  case_00013          [1]  (3.0, 0.781624972820282, 0.781624972820282)   \n",
      "209  case_00185          [1]  (3.0, 0.781624972820282, 0.781624972820282)   \n",
      "\n",
      "                                             fg_slices  \n",
      "0    [29, 30, 31, 32, 33, 34, 35, 36, 37, 38, 39, 4...  \n",
      "1    [25, 26, 27, 28, 29, 30, 31, 32, 33, 34, 35, 3...  \n",
      "2    [24, 25, 26, 27, 28, 29, 30, 31, 32, 33, 34, 3...  \n",
      "3    [42, 43, 44, 45, 46, 47, 48, 49, 50, 51, 52, 5...  \n",
      "4    [44, 45, 46, 47, 48, 49, 50, 51, 52, 53, 54, 5...  \n",
      "5    [27, 28, 29, 30, 31, 32, 33, 34, 35, 36, 37, 3...  \n",
      "6    [46, 47, 48, 49, 50, 51, 52, 53, 54, 55, 56, 5...  \n",
      "7    [27, 28, 29, 30, 31, 32, 33, 34, 35, 36, 37, 3...  \n",
      "8    [37, 38, 39, 40, 41, 42, 43, 44, 45, 46, 47, 4...  \n",
      "9    [20, 21, 22, 23, 24, 25, 26, 27, 28, 29, 30, 3...  \n",
      "10   [32, 33, 34, 35, 36, 37, 38, 39, 40, 41, 42, 4...  \n",
      "11   [35, 36, 37, 38, 39, 40, 41, 42, 43, 44, 45, 4...  \n",
      "12   [43, 44, 45, 46, 47, 48, 49, 50, 51, 52, 53, 5...  \n",
      "13   [43, 44, 45, 46, 47, 48, 49, 50, 51, 52, 53, 5...  \n",
      "14   [38, 39, 40, 41, 42, 43, 44, 45, 46, 47, 48, 4...  \n",
      "15   [33, 34, 35, 36, 37, 38, 39, 40, 41, 42, 43, 4...  \n",
      "16   [26, 27, 28, 29, 30, 31, 32, 33, 34, 35, 36, 3...  \n",
      "17   [34, 35, 36, 37, 38, 39, 40, 41, 42, 43, 44, 4...  \n",
      "18   [29, 30, 31, 32, 33, 34, 35, 36, 37, 38, 39, 4...  \n",
      "19   [17, 18, 19, 20, 21, 22, 23, 24, 25, 26, 27, 2...  \n",
      "20   [25, 26, 27, 28, 29, 30, 31, 32, 33, 34, 35, 3...  \n",
      "21   [50, 51, 52, 53, 54, 55, 56, 57, 58, 59, 60, 6...  \n",
      "22   [41, 42, 43, 44, 45, 46, 47, 48, 49, 50, 51, 5...  \n",
      "23   [43, 44, 45, 46, 47, 48, 49, 50, 51, 52, 53, 5...  \n",
      "24   [27, 28, 29, 30, 31, 32, 33, 34, 35, 36, 37, 3...  \n",
      "25   [23, 24, 25, 26, 27, 28, 29, 30, 31, 32, 33, 3...  \n",
      "26   [32, 33, 34, 35, 36, 37, 38, 39, 40, 41, 42, 4...  \n",
      "27   [27, 28, 29, 30, 31, 32, 33, 34, 35, 36, 37, 3...  \n",
      "28   [40, 41, 42, 43, 44, 45, 46, 47, 48, 49, 50, 5...  \n",
      "29   [43, 44, 45, 46, 47, 48, 49, 50, 51, 52, 53, 5...  \n",
      "..                                                 ...  \n",
      "180  [42, 43, 44, 45, 46, 47, 48, 49, 50, 51, 52, 5...  \n",
      "181  [30, 31, 32, 33, 34, 35, 36, 37, 38, 39, 40, 4...  \n",
      "182  [37, 38, 39, 40, 41, 42, 43, 44, 45, 46, 47, 4...  \n",
      "183  [31, 32, 33, 34, 35, 36, 37, 38, 39, 40, 41, 4...  \n",
      "184  [34, 35, 36, 37, 38, 39, 40, 41, 42, 43, 44, 4...  \n",
      "185  [34, 35, 36, 37, 38, 39, 40, 41, 42, 43, 44, 4...  \n",
      "186  [46, 47, 48, 49, 50, 51, 52, 53, 54, 55, 56, 5...  \n",
      "187  [45, 46, 47, 48, 49, 50, 51, 52, 53, 54, 55, 5...  \n",
      "188  [38, 39, 40, 41, 42, 43, 44, 45, 46, 47, 48, 4...  \n",
      "189  [24, 25, 26, 27, 28, 29, 30, 31, 32, 33, 34, 3...  \n",
      "190  [51, 52, 53, 54, 55, 56, 57, 58, 59, 60, 61, 6...  \n",
      "191  [39, 40, 41, 42, 43, 44, 45, 46, 47, 48, 49, 5...  \n",
      "192  [41, 42, 43, 44, 45, 46, 47, 48, 49, 50, 51, 5...  \n",
      "193  [31, 32, 33, 34, 35, 36, 37, 38, 39, 40, 41, 4...  \n",
      "194  [25, 26, 27, 28, 29, 30, 31, 32, 33, 34, 35, 3...  \n",
      "195  [39, 40, 41, 42, 43, 44, 45, 46, 47, 48, 49, 5...  \n",
      "196  [27, 28, 29, 30, 31, 32, 33, 34, 35, 36, 37, 3...  \n",
      "197  [37, 38, 39, 40, 41, 42, 43, 44, 45, 46, 47, 4...  \n",
      "198  [53, 54, 55, 56, 57, 58, 59, 60, 61, 62, 63, 6...  \n",
      "199  [39, 40, 41, 42, 43, 44, 45, 46, 47, 48, 49, 5...  \n",
      "200  [26, 27, 28, 29, 30, 31, 32, 33, 34, 35, 36, 3...  \n",
      "201  [38, 39, 40, 41, 42, 43, 44, 45, 46, 47, 48, 4...  \n",
      "202  [41, 42, 43, 44, 45, 46, 47, 48, 49, 50, 51, 5...  \n",
      "203  [37, 38, 39, 40, 41, 42, 43, 44, 45, 46, 47, 4...  \n",
      "204  [24, 25, 26, 27, 28, 29, 30, 31, 32, 33, 34, 3...  \n",
      "205  [44, 45, 46, 47, 48, 49, 50, 51, 52, 53, 54, 5...  \n",
      "206  [37, 38, 39, 40, 41, 42, 43, 44, 45, 46, 47, 4...  \n",
      "207  [31, 32, 33, 34, 35, 36, 37, 38, 39, 40, 41, 4...  \n",
      "208  [33, 34, 35, 36, 37, 38, 39, 40, 41, 42, 43, 4...  \n",
      "209  [35, 36, 37, 38, 39, 40, 41, 42, 43, 44, 45, 4...  \n",
      "\n",
      "[210 rows x 4 columns]\n"
     ]
    }
   ],
   "source": [
    "import pandas as pd\n",
    "\n",
    "object = pd.read_pickle(r'/home/marafath/scratch/kits/train/info_df_bk.pickle')\n",
    "print(object)"
   ]
  },
  {
   "cell_type": "code",
   "execution_count": 5,
   "metadata": {},
   "outputs": [
    {
     "name": "stdout",
     "output_type": "stream",
     "text": [
      "[29, 30, 31, 32, 33, 34, 35, 36, 37, 38, 39, 40, 41, 42, 43, 44, 45, 46, 68, 69, 70, 71, 74, 75, 76, 77, 78, 79, 80, 81, 82, 83, 84, 85, 86, 87, 88, 89, 90]\n"
     ]
    }
   ],
   "source": [
    "print(object.fg_slices[0])"
   ]
  },
  {
   "cell_type": "code",
   "execution_count": null,
   "metadata": {},
   "outputs": [],
   "source": []
  }
 ],
 "metadata": {
  "kernelspec": {
   "display_name": "Python 3",
   "language": "python",
   "name": "python3"
  },
  "language_info": {
   "codemirror_mode": {
    "name": "ipython",
    "version": 3
   },
   "file_extension": ".py",
   "mimetype": "text/x-python",
   "name": "python",
   "nbconvert_exporter": "python",
   "pygments_lexer": "ipython3",
   "version": "3.7.4"
  }
 },
 "nbformat": 4,
 "nbformat_minor": 4
}
